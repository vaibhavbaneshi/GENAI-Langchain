{
 "cells": [
  {
   "cell_type": "markdown",
   "id": "fb08cab0",
   "metadata": {},
   "source": [
    "### Gen AI APP 2\n",
    "\n",
    "##### Load Data--> Docs-->Divide our Documents into chunks dcouments-->text-->vectors-->Vector Embeddings--->Vector Store DB\n"
   ]
  },
  {
   "cell_type": "code",
   "execution_count": 1,
   "id": "66206db5",
   "metadata": {},
   "outputs": [],
   "source": [
    "import os\n",
    "from dotenv import load_dotenv\n",
    "load_dotenv()\n",
    "\n",
    "os.environ[\"LANGCHAIN_TRACING_V2\"]=\"true\"\n",
    "os.environ[\"LANGCHAIN_PROJECT\"]=os.getenv(\"LANGCHAIN_PROJECT\")"
   ]
  },
  {
   "cell_type": "code",
   "execution_count": 38,
   "id": "b0ab4c9a",
   "metadata": {},
   "outputs": [
    {
     "data": {
      "text/plain": [
       "[Document(metadata={'source': 'https://docs.smith.langchain.com/prompt_engineering/concepts', 'title': 'Concepts | \\uf8ffü¶úÔ∏è\\uf8ffüõ†Ô∏è LangSmith', 'description': 'Prompt engineering is one the core pillars of LangSmith.', 'language': 'en'}, page_content='\\n\\n\\n\\n\\nConcepts | \\uf8ffü¶úÔ∏è\\uf8ffüõ†Ô∏è LangSmith\\n\\n\\n\\n\\n\\n\\nSkip to main contentWe are growing and hiring for multiple roles for LangChain, LangGraph and LangSmith. Join our team!API ReferenceRESTPythonJS/TSSearchRegionUSEUGo to AppGet StartedObservabilityEvaluationPrompt EngineeringQuickstartsTutorialsOptimize a classifierHow-to GuidesCreate a promptRun the playground against a custom LangServe model serverRun the playground against an OpenAI-compliant model provider/proxyUpdate a promptManage prompts programmaticallyManaging Prompt SettingsPrompt TagsOpen a prompt from a traceLangChain HubPrompt CanvasConceptual GuideDeployment (LangGraph Platform)AdministrationSelf-hostingPricingReferenceCloud architecture and scalabilityAuthz and AuthnAuthentication methodsdata_formatsEvaluationDataset transformationsRegions FAQsdk_referencePrompt EngineeringConceptual GuideOn this pageConcepts\\nPrompt engineering is one the core pillars of LangSmith.\\nWhile traditional software application are built by writing code, AI applications often involve a good amount of writing prompts.\\nWe aim to make this as easy possible by providing a set of tools designed to enable and facilitate prompt engineering.\\nWhy prompt engineering?‚Äã\\nA prompt sets the stage for the model, like an audience member at an improv show directing the actor\\'s next performance - it guides the model\\'s\\nbehavior without changing its underlying capabilities. Just as telling an actor to \"be a pirate\" determines how they act,\\na prompt provides instructions, examples, and context that shape how the model responds.\\nPrompt engineering is important because it allows you to change the way the model behaves.\\nWhile there are other ways to change the model\\'s behavior (like fine-tuning), prompt engineering is usually the simplest to get started with\\nand often provides the highest ROI.\\nWe often see that prompt engineering is multi-disciplinary.\\nSometimes the best prompt engineer is not the software engineer who is building the application, but rather the product manager\\nor another domain expert.\\nIt is important to have the proper tooling and infrastructure to support this cross-disciplinary building.\\nPrompts vs Prompt Templates‚Äã\\nAlthough we often use these terms interchangably, it is important to understand the difference between \"prompts\" and \"prompt templates\".\\nPrompts refer to the messages that are passed into the language model.\\nPrompt Templates refer to a way of formatting information to get that prompt to hold the information that you want. Prompt templates\\ncan include variables for few shot examples, outside context, or any other external data that is needed in your prompt.\\n\\nPrompts in LangSmith‚Äã\\nYou can store and version prompts templates in LangSmith.\\nThere are few key aspects of a prompt template to understand.\\nChat vs Completion‚Äã\\nThere are two different types of prompts: chat style prompts and completion style prompts.\\nChat style prompts are a list of messages. This is the prompting style supported by most model APIs these days, and so this should generally be preferred.\\nCompletion style prompts are just a string. This is an older style of prompting, and so mostly exists for legacy reasons.\\nF-string vs mustache‚Äã\\nYou can format your prompt with input variables using either f-string or mustache format. Here is an example prompt\\nwith f-string format:\\nHello, {name}!\\nAnd here is one with mustache:\\nHello, {{name}}!\\nMustache formatMustache format gives your more flexbility around conditional variables, loops, and nested keys.\\nRead the documentation\\nTools‚Äã\\nTools are interfaces the LLM can use to interact with the outside world. Tools consist of a name, description,\\nand JSON schema of arguments used to call the tool.\\nStructured Output‚Äã\\nStructured output is a feature of most state of the art LLMs, wherein instead of producing raw text as output they\\nstick to a specified schema. This may or may not use Tools under the hood.\\nStructured Output vs ToolsStructured outputs are similar to tools, but different in a few key ways. With tools, the LLM choose which tool to call (or may choose not to call any); with structured output, the LLM always responds in this format. With tools, the LLM may select multiple tools; with structured output, only one response is generate.\\nModel‚Äã\\nOptionally, you can store a model configuration alongside a prompt template. This includes the name of the model and any other parameters (temperature, etc).\\nPrompt Versioning‚Äã\\nVerisioning is a key part of iterating and collaborating on your different prompts.\\nCommits‚Äã\\nEvery saved update to a prompt creates a new commit. You can view previous commits, making it easy to review earlier prompt versions or revert to a previous state if needed. In the SDK, you can access a specific commit of a prompt by specifying the commit hash along with the prompt name (e.g. prompt_name:commit_hash).\\nIn the UI, you can compare a commit with its previous version by toggling the \"diff\" button in the top-right corner of the Commits tab.\\n\\nTags‚Äã\\nYou may want to tag prompt commits with a human-readable tag so that you can refer to it even as new commits are added. Common use cases include tagging a prompt with dev or prod tags. This allows you to track which versions of prompts are used where.\\nPrompt Playground‚Äã\\nThe prompt playground makes the process of iterating and testing your prompts seamless. You can enter the playground from the sidebar or directly from a saved prompt.\\nIn the playground you can:\\n\\nChange the model being used\\nChange prompt template being used\\nChange the output schema\\nChange the tools available\\nEnter the input variables to run through the prompt template\\nRun the prompt through the model\\nObserve the outputs\\n\\nTesting multiple prompts‚Äã\\nYou can add more prompts to your playground to easily compare outputs and decide which version is better:\\n\\nTesting over a dataset‚Äã\\nTo test over a dataset, you simply select the dataset from the top right and press Start. You can modify whether the results\\nare streamed back as well as how many repitions there are in the test.\\n\\nYou can click on the \"View Experiment\" button to dive deeper into the results of the test.Was this page helpful?You can leave detailed feedback on GitHub.PreviousPrompt CanvasNextDeployment (LangGraph Platform)Why prompt engineering?Prompts vs Prompt TemplatesPrompts in LangSmithChat vs CompletionF-string vs mustacheToolsStructured OutputModelPrompt VersioningCommitsTagsPrompt PlaygroundTesting multiple promptsTesting over a datasetCommunityDiscordTwitterGitHubDocs CodeLangSmith SDKPythonJS/TSMoreHomepageBlogLangChain Python DocsLangChain JS/TS DocsCopyright ¬© 2025 LangChain, Inc.\\n\\n')]"
      ]
     },
     "execution_count": 38,
     "metadata": {},
     "output_type": "execute_result"
    }
   ],
   "source": [
    "from langchain_community.document_loaders import WebBaseLoader\n",
    "\n",
    "loader = WebBaseLoader('https://docs.smith.langchain.com/prompt_engineering/concepts')\n",
    "docs=loader.load()\n",
    "docs"
   ]
  },
  {
   "cell_type": "code",
   "execution_count": 41,
   "id": "20a8df61",
   "metadata": {},
   "outputs": [
    {
     "data": {
      "text/plain": [
       "[Document(metadata={'source': 'https://docs.smith.langchain.com/prompt_engineering/concepts', 'title': 'Concepts | \\uf8ffü¶úÔ∏è\\uf8ffüõ†Ô∏è LangSmith', 'description': 'Prompt engineering is one the core pillars of LangSmith.', 'language': 'en'}, page_content='Concepts | \\uf8ffü¶úÔ∏è\\uf8ffüõ†Ô∏è LangSmith'),\n",
       " Document(metadata={'source': 'https://docs.smith.langchain.com/prompt_engineering/concepts', 'title': 'Concepts | \\uf8ffü¶úÔ∏è\\uf8ffüõ†Ô∏è LangSmith', 'description': 'Prompt engineering is one the core pillars of LangSmith.', 'language': 'en'}, page_content='Skip to main contentWe are growing and hiring for multiple roles for LangChain, LangGraph and LangSmith. Join our team!API ReferenceRESTPythonJS/TSSearchRegionUSEUGo to AppGet StartedObservabilityEvaluationPrompt EngineeringQuickstartsTutorialsOptimize a classifierHow-to GuidesCreate a promptRun the playground against a custom LangServe model serverRun the playground against an OpenAI-compliant model provider/proxyUpdate a promptManage prompts programmaticallyManaging Prompt SettingsPrompt TagsOpen a prompt from a traceLangChain HubPrompt CanvasConceptual GuideDeployment (LangGraph Platform)AdministrationSelf-hostingPricingReferenceCloud architecture and scalabilityAuthz and AuthnAuthentication methodsdata_formatsEvaluationDataset transformationsRegions FAQsdk_referencePrompt EngineeringConceptual GuideOn this pageConcepts\\nPrompt engineering is one the core pillars of LangSmith.'),\n",
       " Document(metadata={'source': 'https://docs.smith.langchain.com/prompt_engineering/concepts', 'title': 'Concepts | \\uf8ffü¶úÔ∏è\\uf8ffüõ†Ô∏è LangSmith', 'description': 'Prompt engineering is one the core pillars of LangSmith.', 'language': 'en'}, page_content='Prompt engineering is one the core pillars of LangSmith.\\nWhile traditional software application are built by writing code, AI applications often involve a good amount of writing prompts.\\nWe aim to make this as easy possible by providing a set of tools designed to enable and facilitate prompt engineering.\\nWhy prompt engineering?‚Äã\\nA prompt sets the stage for the model, like an audience member at an improv show directing the actor\\'s next performance - it guides the model\\'s\\nbehavior without changing its underlying capabilities. Just as telling an actor to \"be a pirate\" determines how they act,\\na prompt provides instructions, examples, and context that shape how the model responds.\\nPrompt engineering is important because it allows you to change the way the model behaves.\\nWhile there are other ways to change the model\\'s behavior (like fine-tuning), prompt engineering is usually the simplest to get started with\\nand often provides the highest ROI.'),\n",
       " Document(metadata={'source': 'https://docs.smith.langchain.com/prompt_engineering/concepts', 'title': 'Concepts | \\uf8ffü¶úÔ∏è\\uf8ffüõ†Ô∏è LangSmith', 'description': 'Prompt engineering is one the core pillars of LangSmith.', 'language': 'en'}, page_content='behavior without changing its underlying capabilities. Just as telling an actor to \"be a pirate\" determines how they act,\\na prompt provides instructions, examples, and context that shape how the model responds.\\nPrompt engineering is important because it allows you to change the way the model behaves.\\nWhile there are other ways to change the model\\'s behavior (like fine-tuning), prompt engineering is usually the simplest to get started with\\nand often provides the highest ROI.\\nWe often see that prompt engineering is multi-disciplinary.\\nSometimes the best prompt engineer is not the software engineer who is building the application, but rather the product manager\\nor another domain expert.\\nIt is important to have the proper tooling and infrastructure to support this cross-disciplinary building.\\nPrompts vs Prompt Templates‚Äã\\nAlthough we often use these terms interchangably, it is important to understand the difference between \"prompts\" and \"prompt templates\".'),\n",
       " Document(metadata={'source': 'https://docs.smith.langchain.com/prompt_engineering/concepts', 'title': 'Concepts | \\uf8ffü¶úÔ∏è\\uf8ffüõ†Ô∏è LangSmith', 'description': 'Prompt engineering is one the core pillars of LangSmith.', 'language': 'en'}, page_content='We often see that prompt engineering is multi-disciplinary.\\nSometimes the best prompt engineer is not the software engineer who is building the application, but rather the product manager\\nor another domain expert.\\nIt is important to have the proper tooling and infrastructure to support this cross-disciplinary building.\\nPrompts vs Prompt Templates‚Äã\\nAlthough we often use these terms interchangably, it is important to understand the difference between \"prompts\" and \"prompt templates\".\\nPrompts refer to the messages that are passed into the language model.\\nPrompt Templates refer to a way of formatting information to get that prompt to hold the information that you want. Prompt templates\\ncan include variables for few shot examples, outside context, or any other external data that is needed in your prompt.'),\n",
       " Document(metadata={'source': 'https://docs.smith.langchain.com/prompt_engineering/concepts', 'title': 'Concepts | \\uf8ffü¶úÔ∏è\\uf8ffüõ†Ô∏è LangSmith', 'description': 'Prompt engineering is one the core pillars of LangSmith.', 'language': 'en'}, page_content='Prompts in LangSmith‚Äã\\nYou can store and version prompts templates in LangSmith.\\nThere are few key aspects of a prompt template to understand.\\nChat vs Completion‚Äã\\nThere are two different types of prompts: chat style prompts and completion style prompts.\\nChat style prompts are a list of messages. This is the prompting style supported by most model APIs these days, and so this should generally be preferred.\\nCompletion style prompts are just a string. This is an older style of prompting, and so mostly exists for legacy reasons.\\nF-string vs mustache‚Äã\\nYou can format your prompt with input variables using either f-string or mustache format. Here is an example prompt\\nwith f-string format:\\nHello, {name}!\\nAnd here is one with mustache:\\nHello, {{name}}!\\nMustache formatMustache format gives your more flexbility around conditional variables, loops, and nested keys.\\nRead the documentation\\nTools‚Äã'),\n",
       " Document(metadata={'source': 'https://docs.smith.langchain.com/prompt_engineering/concepts', 'title': 'Concepts | \\uf8ffü¶úÔ∏è\\uf8ffüõ†Ô∏è LangSmith', 'description': 'Prompt engineering is one the core pillars of LangSmith.', 'language': 'en'}, page_content='Completion style prompts are just a string. This is an older style of prompting, and so mostly exists for legacy reasons.\\nF-string vs mustache‚Äã\\nYou can format your prompt with input variables using either f-string or mustache format. Here is an example prompt\\nwith f-string format:\\nHello, {name}!\\nAnd here is one with mustache:\\nHello, {{name}}!\\nMustache formatMustache format gives your more flexbility around conditional variables, loops, and nested keys.\\nRead the documentation\\nTools‚Äã\\nTools are interfaces the LLM can use to interact with the outside world. Tools consist of a name, description,\\nand JSON schema of arguments used to call the tool.\\nStructured Output‚Äã\\nStructured output is a feature of most state of the art LLMs, wherein instead of producing raw text as output they\\nstick to a specified schema. This may or may not use Tools under the hood.'),\n",
       " Document(metadata={'source': 'https://docs.smith.langchain.com/prompt_engineering/concepts', 'title': 'Concepts | \\uf8ffü¶úÔ∏è\\uf8ffüõ†Ô∏è LangSmith', 'description': 'Prompt engineering is one the core pillars of LangSmith.', 'language': 'en'}, page_content='Read the documentation\\nTools‚Äã\\nTools are interfaces the LLM can use to interact with the outside world. Tools consist of a name, description,\\nand JSON schema of arguments used to call the tool.\\nStructured Output‚Äã\\nStructured output is a feature of most state of the art LLMs, wherein instead of producing raw text as output they\\nstick to a specified schema. This may or may not use Tools under the hood.\\nStructured Output vs ToolsStructured outputs are similar to tools, but different in a few key ways. With tools, the LLM choose which tool to call (or may choose not to call any); with structured output, the LLM always responds in this format. With tools, the LLM may select multiple tools; with structured output, only one response is generate.\\nModel‚Äã\\nOptionally, you can store a model configuration alongside a prompt template. This includes the name of the model and any other parameters (temperature, etc).\\nPrompt Versioning‚Äã'),\n",
       " Document(metadata={'source': 'https://docs.smith.langchain.com/prompt_engineering/concepts', 'title': 'Concepts | \\uf8ffü¶úÔ∏è\\uf8ffüõ†Ô∏è LangSmith', 'description': 'Prompt engineering is one the core pillars of LangSmith.', 'language': 'en'}, page_content='Model‚Äã\\nOptionally, you can store a model configuration alongside a prompt template. This includes the name of the model and any other parameters (temperature, etc).\\nPrompt Versioning‚Äã\\nVerisioning is a key part of iterating and collaborating on your different prompts.\\nCommits‚Äã\\nEvery saved update to a prompt creates a new commit. You can view previous commits, making it easy to review earlier prompt versions or revert to a previous state if needed. In the SDK, you can access a specific commit of a prompt by specifying the commit hash along with the prompt name (e.g. prompt_name:commit_hash).\\nIn the UI, you can compare a commit with its previous version by toggling the \"diff\" button in the top-right corner of the Commits tab.'),\n",
       " Document(metadata={'source': 'https://docs.smith.langchain.com/prompt_engineering/concepts', 'title': 'Concepts | \\uf8ffü¶úÔ∏è\\uf8ffüõ†Ô∏è LangSmith', 'description': 'Prompt engineering is one the core pillars of LangSmith.', 'language': 'en'}, page_content='Tags‚Äã\\nYou may want to tag prompt commits with a human-readable tag so that you can refer to it even as new commits are added. Common use cases include tagging a prompt with dev or prod tags. This allows you to track which versions of prompts are used where.\\nPrompt Playground‚Äã\\nThe prompt playground makes the process of iterating and testing your prompts seamless. You can enter the playground from the sidebar or directly from a saved prompt.\\nIn the playground you can:\\n\\nChange the model being used\\nChange prompt template being used\\nChange the output schema\\nChange the tools available\\nEnter the input variables to run through the prompt template\\nRun the prompt through the model\\nObserve the outputs\\n\\nTesting multiple prompts‚Äã\\nYou can add more prompts to your playground to easily compare outputs and decide which version is better:'),\n",
       " Document(metadata={'source': 'https://docs.smith.langchain.com/prompt_engineering/concepts', 'title': 'Concepts | \\uf8ffü¶úÔ∏è\\uf8ffüõ†Ô∏è LangSmith', 'description': 'Prompt engineering is one the core pillars of LangSmith.', 'language': 'en'}, page_content='Change the model being used\\nChange prompt template being used\\nChange the output schema\\nChange the tools available\\nEnter the input variables to run through the prompt template\\nRun the prompt through the model\\nObserve the outputs\\n\\nTesting multiple prompts‚Äã\\nYou can add more prompts to your playground to easily compare outputs and decide which version is better:\\n\\nTesting over a dataset‚Äã\\nTo test over a dataset, you simply select the dataset from the top right and press Start. You can modify whether the results\\nare streamed back as well as how many repitions there are in the test.'),\n",
       " Document(metadata={'source': 'https://docs.smith.langchain.com/prompt_engineering/concepts', 'title': 'Concepts | \\uf8ffü¶úÔ∏è\\uf8ffüõ†Ô∏è LangSmith', 'description': 'Prompt engineering is one the core pillars of LangSmith.', 'language': 'en'}, page_content='Testing multiple prompts‚Äã\\nYou can add more prompts to your playground to easily compare outputs and decide which version is better:\\n\\nTesting over a dataset‚Äã\\nTo test over a dataset, you simply select the dataset from the top right and press Start. You can modify whether the results\\nare streamed back as well as how many repitions there are in the test.\\n\\nYou can click on the \"View Experiment\" button to dive deeper into the results of the test.Was this page helpful?You can leave detailed feedback on GitHub.PreviousPrompt CanvasNextDeployment (LangGraph Platform)Why prompt engineering?Prompts vs Prompt TemplatesPrompts in LangSmithChat vs CompletionF-string vs mustacheToolsStructured OutputModelPrompt VersioningCommitsTagsPrompt PlaygroundTesting multiple promptsTesting over a datasetCommunityDiscordTwitterGitHubDocs CodeLangSmith SDKPythonJS/TSMoreHomepageBlogLangChain Python DocsLangChain JS/TS DocsCopyright ¬© 2025 LangChain, Inc.')]"
      ]
     },
     "execution_count": 41,
     "metadata": {},
     "output_type": "execute_result"
    }
   ],
   "source": [
    "from langchain_text_splitters import RecursiveCharacterTextSplitter\n",
    "\n",
    "text_splitter = RecursiveCharacterTextSplitter(chunk_size=1000, chunk_overlap=500)\n",
    "doc_split = text_splitter.split_documents(docs)\n",
    "doc_split"
   ]
  },
  {
   "cell_type": "code",
   "execution_count": 1,
   "id": "d6efe8d0",
   "metadata": {},
   "outputs": [],
   "source": [
    "from langchain_ollama import OllamaEmbeddings\n",
    "\n",
    "embeddings = (\n",
    "    OllamaEmbeddings(model=\"gemma:2b\")\n",
    ")\n"
   ]
  },
  {
   "cell_type": "code",
   "execution_count": 43,
   "id": "554e6e6c",
   "metadata": {},
   "outputs": [
    {
     "data": {
      "text/plain": [
       "<langchain_community.vectorstores.faiss.FAISS at 0x1c80f9898d0>"
      ]
     },
     "execution_count": 43,
     "metadata": {},
     "output_type": "execute_result"
    }
   ],
   "source": [
    "from langchain_community.vectorstores import FAISS\n",
    "\n",
    "vectorstoredb = FAISS.from_documents(doc_split, embeddings)\n",
    "\n",
    "vectorstoredb"
   ]
  },
  {
   "cell_type": "code",
   "execution_count": 44,
   "id": "2bc71916",
   "metadata": {},
   "outputs": [
    {
     "data": {
      "text/plain": [
       "'Tags‚Äã\\nYou may want to tag prompt commits with a human-readable tag so that you can refer to it even as new commits are added. Common use cases include tagging a prompt with dev or prod tags. This allows you to track which versions of prompts are used where.\\nPrompt Playground‚Äã\\nThe prompt playground makes the process of iterating and testing your prompts seamless. You can enter the playground from the sidebar or directly from a saved prompt.\\nIn the playground you can:\\n\\nChange the model being used\\nChange prompt template being used\\nChange the output schema\\nChange the tools available\\nEnter the input variables to run through the prompt template\\nRun the prompt through the model\\nObserve the outputs\\n\\nTesting multiple prompts‚Äã\\nYou can add more prompts to your playground to easily compare outputs and decide which version is better:'"
      ]
     },
     "execution_count": 44,
     "metadata": {},
     "output_type": "execute_result"
    }
   ],
   "source": [
    "query=\"A prompt sets the stage for the model\"\n",
    "result=vectorstoredb.similarity_search(query)\n",
    "result[0].page_content"
   ]
  },
  {
   "cell_type": "code",
   "execution_count": 45,
   "id": "fb09c96b",
   "metadata": {},
   "outputs": [],
   "source": [
    "from langchain_ollama import ChatOllama\n",
    "\n",
    "llm=ChatOllama(model='gemma:2b')"
   ]
  },
  {
   "cell_type": "code",
   "execution_count": 47,
   "id": "f610d83f",
   "metadata": {},
   "outputs": [
    {
     "data": {
      "text/plain": [
       "RunnableBinding(bound=RunnableBinding(bound=RunnableAssign(mapper={\n",
       "  context: RunnableLambda(format_docs)\n",
       "}), kwargs={}, config={'run_name': 'format_inputs'}, config_factories=[])\n",
       "| ChatPromptTemplate(input_variables=['context'], input_types={}, partial_variables={}, messages=[HumanMessagePromptTemplate(prompt=PromptTemplate(input_variables=['context'], input_types={}, partial_variables={}, template='\\n        Answer the following question based only on the provided context:\\n        <context>\\n        {context}\\n        </context>\\n\\n    '), additional_kwargs={})])\n",
       "| ChatOllama(model='gemma:2b')\n",
       "| StrOutputParser(), kwargs={}, config={'run_name': 'stuff_documents_chain'}, config_factories=[])"
      ]
     },
     "execution_count": 47,
     "metadata": {},
     "output_type": "execute_result"
    }
   ],
   "source": [
    "from langchain.chains.combine_documents import create_stuff_documents_chain\n",
    "from langchain_core.prompts import ChatPromptTemplate\n",
    "\n",
    "prompt=ChatPromptTemplate.from_template(\n",
    "    \"\"\"\n",
    "        Answer the following question based only on the provided context:\n",
    "        <context>\n",
    "        {context}\n",
    "        </context>\n",
    "\n",
    "    \"\"\"\n",
    ")\n",
    "\n",
    "document_chain=create_stuff_documents_chain(llm,prompt)\n",
    "document_chain"
   ]
  },
  {
   "cell_type": "code",
   "execution_count": 54,
   "id": "48d60cdc",
   "metadata": {},
   "outputs": [
    {
     "data": {
      "text/plain": [
       "'The context does not provide any information about what a prompt is, how it is used, or what its purpose is. Therefore, I cannot answer this question from the provided context.'"
      ]
     },
     "execution_count": 54,
     "metadata": {},
     "output_type": "execute_result"
    }
   ],
   "source": [
    "from langchain_core.documents import Document\n",
    "document_chain.invoke({\n",
    "    \"input\":\"Who is the best prompt engineer?\",\n",
    "    \"context\":[Document(page_content=\"A prompt sets the stage for the model, like an audience member at an improv show directing the actor's next performance - it guides the model's behavior without changing its underlying capabilities. Just as telling an actor to be a pirate determines how they act, a prompt provides instructions, examples, and context that shape how the model responds. Prompt engineering is important because it allows you to change the way the model behaves. While there are other ways to change the model's behavior (like fine-tuning), prompt engineering is usually the simplest to get started with and often provides the highest ROI. We often see that prompt engineering is multi-disciplinary. Sometimes the best prompt engineer is not the software engineer who is building the application, but rather the product manager or another domain expert. It is important to have the proper tooling and infrastructure to support this cross-disciplinary building.\")]\n",
    "})"
   ]
  },
  {
   "cell_type": "code",
   "execution_count": 50,
   "id": "fab7129d",
   "metadata": {},
   "outputs": [
    {
     "data": {
      "text/plain": [
       "RunnableBinding(bound=RunnableAssign(mapper={\n",
       "  context: RunnableBinding(bound=RunnableLambda(lambda x: x['input'])\n",
       "           | VectorStoreRetriever(tags=['FAISS', 'OllamaEmbeddings'], vectorstore=<langchain_community.vectorstores.faiss.FAISS object at 0x000001C80F9898D0>, search_kwargs={}), kwargs={}, config={'run_name': 'retrieve_documents'}, config_factories=[])\n",
       "})\n",
       "| RunnableAssign(mapper={\n",
       "    answer: RunnableBinding(bound=RunnableBinding(bound=RunnableAssign(mapper={\n",
       "              context: RunnableLambda(format_docs)\n",
       "            }), kwargs={}, config={'run_name': 'format_inputs'}, config_factories=[])\n",
       "            | ChatPromptTemplate(input_variables=['context'], input_types={}, partial_variables={}, messages=[HumanMessagePromptTemplate(prompt=PromptTemplate(input_variables=['context'], input_types={}, partial_variables={}, template='\\n        Answer the following question based only on the provided context:\\n        <context>\\n        {context}\\n        </context>\\n\\n    '), additional_kwargs={})])\n",
       "            | ChatOllama(model='gemma:2b')\n",
       "            | StrOutputParser(), kwargs={}, config={'run_name': 'stuff_documents_chain'}, config_factories=[])\n",
       "  }), kwargs={}, config={'run_name': 'retrieval_chain'}, config_factories=[])"
      ]
     },
     "execution_count": 50,
     "metadata": {},
     "output_type": "execute_result"
    }
   ],
   "source": [
    "retriever=vectorstoredb.as_retriever()\n",
    "from langchain.chains import create_retrieval_chain\n",
    "retrieval_chain=create_retrieval_chain(retriever,document_chain)\n",
    "retrieval_chain"
   ]
  },
  {
   "cell_type": "code",
   "execution_count": 51,
   "id": "e76925c4",
   "metadata": {},
   "outputs": [
    {
     "data": {
      "text/plain": [
       "{'input': 'What is a prompt in the context of AI models?',\n",
       " 'context': [Document(id='6a5ac4ea-375d-453d-aa6c-7e8b8f1b9f12', metadata={'source': 'https://docs.smith.langchain.com/prompt_engineering/concepts', 'title': 'Concepts | \\uf8ffü¶úÔ∏è\\uf8ffüõ†Ô∏è LangSmith', 'description': 'Prompt engineering is one the core pillars of LangSmith.', 'language': 'en'}, page_content='behavior without changing its underlying capabilities. Just as telling an actor to \"be a pirate\" determines how they act,\\na prompt provides instructions, examples, and context that shape how the model responds.\\nPrompt engineering is important because it allows you to change the way the model behaves.\\nWhile there are other ways to change the model\\'s behavior (like fine-tuning), prompt engineering is usually the simplest to get started with\\nand often provides the highest ROI.\\nWe often see that prompt engineering is multi-disciplinary.\\nSometimes the best prompt engineer is not the software engineer who is building the application, but rather the product manager\\nor another domain expert.\\nIt is important to have the proper tooling and infrastructure to support this cross-disciplinary building.\\nPrompts vs Prompt Templates‚Äã\\nAlthough we often use these terms interchangably, it is important to understand the difference between \"prompts\" and \"prompt templates\".'),\n",
       "  Document(id='500a4707-efcf-4b54-ade2-0437a5f71eda', metadata={'source': 'https://docs.smith.langchain.com/prompt_engineering/concepts', 'title': 'Concepts | \\uf8ffü¶úÔ∏è\\uf8ffüõ†Ô∏è LangSmith', 'description': 'Prompt engineering is one the core pillars of LangSmith.', 'language': 'en'}, page_content='We often see that prompt engineering is multi-disciplinary.\\nSometimes the best prompt engineer is not the software engineer who is building the application, but rather the product manager\\nor another domain expert.\\nIt is important to have the proper tooling and infrastructure to support this cross-disciplinary building.\\nPrompts vs Prompt Templates‚Äã\\nAlthough we often use these terms interchangably, it is important to understand the difference between \"prompts\" and \"prompt templates\".\\nPrompts refer to the messages that are passed into the language model.\\nPrompt Templates refer to a way of formatting information to get that prompt to hold the information that you want. Prompt templates\\ncan include variables for few shot examples, outside context, or any other external data that is needed in your prompt.'),\n",
       "  Document(id='744da453-5296-4c49-b81b-dddc442b5612', metadata={'source': 'https://docs.smith.langchain.com/prompt_engineering/concepts', 'title': 'Concepts | \\uf8ffü¶úÔ∏è\\uf8ffüõ†Ô∏è LangSmith', 'description': 'Prompt engineering is one the core pillars of LangSmith.', 'language': 'en'}, page_content='Skip to main contentWe are growing and hiring for multiple roles for LangChain, LangGraph and LangSmith. Join our team!API ReferenceRESTPythonJS/TSSearchRegionUSEUGo to AppGet StartedObservabilityEvaluationPrompt EngineeringQuickstartsTutorialsOptimize a classifierHow-to GuidesCreate a promptRun the playground against a custom LangServe model serverRun the playground against an OpenAI-compliant model provider/proxyUpdate a promptManage prompts programmaticallyManaging Prompt SettingsPrompt TagsOpen a prompt from a traceLangChain HubPrompt CanvasConceptual GuideDeployment (LangGraph Platform)AdministrationSelf-hostingPricingReferenceCloud architecture and scalabilityAuthz and AuthnAuthentication methodsdata_formatsEvaluationDataset transformationsRegions FAQsdk_referencePrompt EngineeringConceptual GuideOn this pageConcepts\\nPrompt engineering is one the core pillars of LangSmith.'),\n",
       "  Document(id='af989766-b0b4-4c5d-a292-dac9b87c03d4', metadata={'source': 'https://docs.smith.langchain.com/prompt_engineering/concepts', 'title': 'Concepts | \\uf8ffü¶úÔ∏è\\uf8ffüõ†Ô∏è LangSmith', 'description': 'Prompt engineering is one the core pillars of LangSmith.', 'language': 'en'}, page_content='Read the documentation\\nTools‚Äã\\nTools are interfaces the LLM can use to interact with the outside world. Tools consist of a name, description,\\nand JSON schema of arguments used to call the tool.\\nStructured Output‚Äã\\nStructured output is a feature of most state of the art LLMs, wherein instead of producing raw text as output they\\nstick to a specified schema. This may or may not use Tools under the hood.\\nStructured Output vs ToolsStructured outputs are similar to tools, but different in a few key ways. With tools, the LLM choose which tool to call (or may choose not to call any); with structured output, the LLM always responds in this format. With tools, the LLM may select multiple tools; with structured output, only one response is generate.\\nModel‚Äã\\nOptionally, you can store a model configuration alongside a prompt template. This includes the name of the model and any other parameters (temperature, etc).\\nPrompt Versioning‚Äã')],\n",
       " 'answer': 'The context does not mention anything about prompt versioning, so I cannot answer this question from the provided context.'}"
      ]
     },
     "execution_count": 51,
     "metadata": {},
     "output_type": "execute_result"
    }
   ],
   "source": [
    "response=retrieval_chain.invoke({\"input\":\"What is a prompt in the context of AI models?\"})\n",
    "response['answer']\n",
    "response"
   ]
  }
 ],
 "metadata": {
  "kernelspec": {
   "display_name": "Python 3",
   "language": "python",
   "name": "python3"
  },
  "language_info": {
   "codemirror_mode": {
    "name": "ipython",
    "version": 3
   },
   "file_extension": ".py",
   "mimetype": "text/x-python",
   "name": "python",
   "nbconvert_exporter": "python",
   "pygments_lexer": "ipython3",
   "version": "3.10.0"
  }
 },
 "nbformat": 4,
 "nbformat_minor": 5
}
