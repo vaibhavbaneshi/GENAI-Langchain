{
 "cells": [
  {
   "cell_type": "code",
   "execution_count": 3,
   "id": "f6e24c46",
   "metadata": {},
   "outputs": [
    {
     "data": {
      "text/plain": [
       "'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'"
      ]
     },
     "execution_count": 3,
     "metadata": {},
     "output_type": "execute_result"
    }
   ],
   "source": [
    "import os\n",
    "from dotenv import load_dotenv\n",
    "load_dotenv()\n",
    "\n",
    "groq_api_key=os.environ['GROQ_API_KEY']\n",
    "groq_api_key"
   ]
  },
  {
   "cell_type": "code",
   "execution_count": 4,
   "id": "23948a47",
   "metadata": {},
   "outputs": [],
   "source": [
    "from langchain_ollama import ChatOllama\n",
    "from langchain_groq import ChatGroq\n",
    "\n",
    "model=ChatGroq(model='Gemma2-9b-It', groq_api_key=groq_api_key)"
   ]
  },
  {
   "cell_type": "code",
   "execution_count": 19,
   "id": "6f5bccfb",
   "metadata": {},
   "outputs": [
    {
     "data": {
      "text/plain": [
       "AIMessage(content='こんにちは、元気ですか？ (Konnichiwa, genki desu ka?) \\n\\nThis is a common and polite way to say \"Hi, How are you?\" in Japanese. \\n\\n\\n* こんにちは (Konnichiwa) means \"Hello\" or \"Good afternoon\".\\n* 元気ですか (genki desu ka?) means \"Are you well?\" or \"How are you?\". \\n', additional_kwargs={}, response_metadata={'token_usage': {'completion_tokens': 84, 'prompt_tokens': 22, 'total_tokens': 106, 'completion_time': 0.152727273, 'prompt_time': 0.002152555, 'queue_time': 0.234783479, 'total_time': 0.154879828}, 'model_name': 'Gemma2-9b-It', 'system_fingerprint': 'fp_10c08bf97d', 'finish_reason': 'stop', 'logprobs': None}, id='run-9ca67d0d-b1f2-4bb1-8830-292f92ae0571-0', usage_metadata={'input_tokens': 22, 'output_tokens': 84, 'total_tokens': 106})"
      ]
     },
     "execution_count": 19,
     "metadata": {},
     "output_type": "execute_result"
    }
   ],
   "source": [
    "from langchain_core.messages import HumanMessage, SystemMessage\n",
    "\n",
    "messages=[\n",
    "    SystemMessage(content='Translate the following from English to Japanese'),\n",
    "    HumanMessage(content='Hi, How are you?')\n",
    "]\n",
    "\n",
    "result=model.invoke(messages)\n",
    "result"
   ]
  },
  {
   "cell_type": "code",
   "execution_count": 6,
   "id": "d64c80db",
   "metadata": {},
   "outputs": [
    {
     "data": {
      "text/plain": [
       "'こんにちは、お元気ですか？ (Konnichiwa, ogenki desu ka?) \\n\\n\\nThis translates to \"Hello, how are you?\" and is a polite and common way to greet someone in Japanese. \\n'"
      ]
     },
     "execution_count": 6,
     "metadata": {},
     "output_type": "execute_result"
    }
   ],
   "source": [
    "from langchain_core.output_parsers import StrOutputParser\n",
    "\n",
    "parser=StrOutputParser()\n",
    "response=parser.invoke(result)\n",
    "response "
   ]
  },
  {
   "cell_type": "code",
   "execution_count": 20,
   "id": "13520cc1",
   "metadata": {},
   "outputs": [
    {
     "data": {
      "text/plain": [
       "'こんにちは、元気ですか？ (Konnichiwa, genki desu ka?) \\n\\n\\nThis is a common way to say \"Hi, how are you?\" in Japanese. \\n\\n* **こんにちは (Konnichiwa)** means \"hello\" or \"good afternoon\".\\n* **元気ですか (Genki desu ka?)** means \"Are you well?\" or \"How are you?\"\\n'"
      ]
     },
     "execution_count": 20,
     "metadata": {},
     "output_type": "execute_result"
    }
   ],
   "source": [
    "chain=model|parser\n",
    "chain.invoke(messages)"
   ]
  },
  {
   "cell_type": "code",
   "execution_count": 8,
   "id": "4913127d",
   "metadata": {},
   "outputs": [],
   "source": [
    "from langchain_core.prompts import ChatPromptTemplate\n",
    "\n",
    "generic_template=\"Translate the following into {language}:\"\n",
    "\n",
    "prompt=ChatPromptTemplate(\n",
    "    [\n",
    "        (\n",
    "            \"system\", generic_template\n",
    "        ),\n",
    "        (\n",
    "            \"user\", \"{text}\"\n",
    "        )\n",
    "    ]\n",
    ")"
   ]
  },
  {
   "cell_type": "code",
   "execution_count": 11,
   "id": "b6e709c5",
   "metadata": {},
   "outputs": [
    {
     "data": {
      "text/plain": [
       "[SystemMessage(content='Translate the following into French:', additional_kwargs={}, response_metadata={}),\n",
       " HumanMessage(content='Hello', additional_kwargs={}, response_metadata={})]"
      ]
     },
     "execution_count": 11,
     "metadata": {},
     "output_type": "execute_result"
    }
   ],
   "source": [
    "result=prompt.invoke({\"language\":\"French\",\"text\":\"Hello\"})\n",
    "result.to_messages()"
   ]
  },
  {
   "cell_type": "code",
   "execution_count": 18,
   "id": "b8b588d2",
   "metadata": {},
   "outputs": [
    {
     "data": {
      "text/plain": [
       "'こんにちは (Konnichiwa) \\n\\n\\nThis is the most common way to say \"Hello\" in Japanese. \\n'"
      ]
     },
     "execution_count": 18,
     "metadata": {},
     "output_type": "execute_result"
    }
   ],
   "source": [
    "##Chaining together components with LCEL\n",
    "chain=prompt|model|parser\n",
    "chain.invoke({\"language\":\"Japanese\",\"text\":\"Hello\"})"
   ]
  }
 ],
 "metadata": {
  "kernelspec": {
   "display_name": "Python 3",
   "language": "python",
   "name": "python3"
  },
  "language_info": {
   "codemirror_mode": {
    "name": "ipython",
    "version": 3
   },
   "file_extension": ".py",
   "mimetype": "text/x-python",
   "name": "python",
   "nbconvert_exporter": "python",
   "pygments_lexer": "ipython3",
   "version": "3.10.0"
  }
 },
 "nbformat": 4,
 "nbformat_minor": 5
}
